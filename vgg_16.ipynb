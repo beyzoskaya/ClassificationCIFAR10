{
  "nbformat": 4,
  "nbformat_minor": 0,
  "metadata": {
    "colab": {
      "provenance": [],
      "gpuType": "T4",
      "authorship_tag": "ABX9TyOQwJb6V5L0PGwNN9D8DmUz",
      "include_colab_link": true
    },
    "kernelspec": {
      "name": "python3",
      "display_name": "Python 3"
    },
    "language_info": {
      "name": "python"
    },
    "accelerator": "GPU"
  },
  "cells": [
    {
      "cell_type": "markdown",
      "metadata": {
        "id": "view-in-github",
        "colab_type": "text"
      },
      "source": [
        "<a href=\"https://colab.research.google.com/github/beyzoskaya/ClassificationCIFAR10/blob/main/vgg_16.ipynb\" target=\"_parent\"><img src=\"https://colab.research.google.com/assets/colab-badge.svg\" alt=\"Open In Colab\"/></a>"
      ]
    },
    {
      "cell_type": "code",
      "execution_count": 60,
      "metadata": {
        "id": "GKAxMkvs9xA1"
      },
      "outputs": [],
      "source": [
        "import torch\n",
        "import torchvision\n",
        "import torchvision.transforms as transforms\n",
        "from torch.utils.data import random_split, DataLoader"
      ]
    },
    {
      "cell_type": "code",
      "source": [
        "torch.manual_seed(42)\n",
        "data_transform = transforms.Compose([\n",
        "    transforms.ToTensor(),\n",
        "    transforms.Normalize((0.5, 0.5, 0.5), (0.5, 0.5, 0.5))\n",
        "])"
      ],
      "metadata": {
        "id": "vIvvm6do_P2W"
      },
      "execution_count": 61,
      "outputs": []
    },
    {
      "cell_type": "code",
      "source": [
        "cifar10_full = torchvision.datasets.CIFAR10(root='./data', train=True, download=True,transform=data_transform)"
      ],
      "metadata": {
        "colab": {
          "base_uri": "https://localhost:8080/"
        },
        "id": "pP7tBjRY_pE-",
        "outputId": "1f57267c-8484-403d-9809-4398fa11294e"
      },
      "execution_count": 62,
      "outputs": [
        {
          "output_type": "stream",
          "name": "stdout",
          "text": [
            "Files already downloaded and verified\n"
          ]
        }
      ]
    },
    {
      "cell_type": "code",
      "source": [
        "total_size = len(cifar10_full)\n",
        "total_size"
      ],
      "metadata": {
        "colab": {
          "base_uri": "https://localhost:8080/"
        },
        "id": "HnylGwAhAEP1",
        "outputId": "d22b12db-9f0d-4fd3-8c44-c2a9f85fab08"
      },
      "execution_count": 63,
      "outputs": [
        {
          "output_type": "execute_result",
          "data": {
            "text/plain": [
              "50000"
            ]
          },
          "metadata": {},
          "execution_count": 63
        }
      ]
    },
    {
      "cell_type": "code",
      "source": [
        "class_indices = [[] for _ in range(10)]\n",
        "for i, (image,label) in enumerate(cifar10_full):\n",
        "  class_indices[label].append(i)"
      ],
      "metadata": {
        "id": "qAKoDSPgAJdP"
      },
      "execution_count": 64,
      "outputs": []
    },
    {
      "cell_type": "code",
      "source": [
        "from torch.utils.data import Subset\n",
        "\n",
        "train_size_per_class = 600\n",
        "val_size_per_class = 200\n",
        "test_size_per_class = 200\n",
        "\n",
        "train_indices = []\n",
        "val_indices = []\n",
        "test_indices = []\n",
        "\n",
        "for indices in class_indices:\n",
        "  train_indices.extend(indices[:train_size_per_class])\n",
        "  val_indices.extend(indices[train_size_per_class:train_size_per_class + val_size_per_class])\n",
        "  test_indices.extend(indices[train_size_per_class + val_size_per_class:train_size_per_class + val_size_per_class + test_size_per_class])\n",
        "\n",
        "cifar10_train = Subset(cifar10_full, train_indices)\n",
        "cifar10_val = Subset(cifar10_full, val_indices)\n",
        "cifar10_test = Subset(cifar10_full, test_indices)"
      ],
      "metadata": {
        "id": "YqC_cINLBBFV"
      },
      "execution_count": 65,
      "outputs": []
    },
    {
      "cell_type": "code",
      "source": [
        "len(cifar10_train), len(cifar10_val), len(cifar10_test)"
      ],
      "metadata": {
        "colab": {
          "base_uri": "https://localhost:8080/"
        },
        "id": "FuJQoP0YCAc5",
        "outputId": "f7218c02-f50d-4e30-a2b0-9dae1100d3d0"
      },
      "execution_count": 66,
      "outputs": [
        {
          "output_type": "execute_result",
          "data": {
            "text/plain": [
              "(6000, 2000, 2000)"
            ]
          },
          "metadata": {},
          "execution_count": 66
        }
      ]
    },
    {
      "cell_type": "code",
      "source": [
        "def get_class_numbers(dataset):\n",
        "  return set(sample[1] for sample in dataset)\n",
        "\n",
        "class_train = get_class_numbers(cifar10_train)\n",
        "class_val = get_class_numbers(cifar10_val)\n",
        "class_test = get_class_numbers(cifar10_test)\n",
        "\n",
        "print(\"Classes in the train set: \", class_train)\n",
        "print(\"Number of classes in the train set: \", len(class_train))\n",
        "\n",
        "print(\"\\nclasses in the validation set:\", class_val)\n",
        "print(\"Number of unique classes in the validation set:\", len(class_val))\n",
        "\n",
        "print(\"\\nClasses in the test set:\", class_test)\n",
        "print(\"Number of unique classes in the test set:\", len(class_test))"
      ],
      "metadata": {
        "colab": {
          "base_uri": "https://localhost:8080/"
        },
        "id": "EK_I1WEXCPkF",
        "outputId": "7f8d1d7e-5b0e-41ac-873a-aaa1bd40df65"
      },
      "execution_count": 67,
      "outputs": [
        {
          "output_type": "stream",
          "name": "stdout",
          "text": [
            "Classes in the train set:  {0, 1, 2, 3, 4, 5, 6, 7, 8, 9}\n",
            "Number of classes in the train set:  10\n",
            "\n",
            "classes in the validation set: {0, 1, 2, 3, 4, 5, 6, 7, 8, 9}\n",
            "Number of unique classes in the validation set: 10\n",
            "\n",
            "Classes in the test set: {0, 1, 2, 3, 4, 5, 6, 7, 8, 9}\n",
            "Number of unique classes in the test set: 10\n"
          ]
        }
      ]
    },
    {
      "cell_type": "code",
      "source": [
        "from collections import Counter\n",
        "\n",
        "def count_images_per_class(dataset):\n",
        "  return Counter(sample[1] for sample in dataset)\n",
        "\n",
        "images_per_class_train = count_images_per_class(cifar10_train)\n",
        "images_per_class_val = count_images_per_class(cifar10_val)\n",
        "images_per_class_test = count_images_per_class(cifar10_test)\n",
        "\n",
        "print(\"Number of images per class in the train set:\")\n",
        "for class_label, count in images_per_class_train.items():\n",
        "    print(f\"Class {class_label}: {count} images\")\n",
        "\n",
        "print(\"\\nNumber of images per class in the validation set:\")\n",
        "for class_label, count in images_per_class_val.items():\n",
        "    print(f\"Class {class_label}: {count} images\")\n",
        "\n",
        "print(\"\\nNumber of images per class in the test set:\")\n",
        "for class_label, count in images_per_class_test.items():\n",
        "    print(f\"Class {class_label}: {count} images\")"
      ],
      "metadata": {
        "colab": {
          "base_uri": "https://localhost:8080/"
        },
        "id": "x-6EurgiDHAi",
        "outputId": "bdd2b11c-0243-49ae-df8d-38c23dff9d84"
      },
      "execution_count": 68,
      "outputs": [
        {
          "output_type": "stream",
          "name": "stdout",
          "text": [
            "Number of images per class in the train set:\n",
            "Class 0: 600 images\n",
            "Class 1: 600 images\n",
            "Class 2: 600 images\n",
            "Class 3: 600 images\n",
            "Class 4: 600 images\n",
            "Class 5: 600 images\n",
            "Class 6: 600 images\n",
            "Class 7: 600 images\n",
            "Class 8: 600 images\n",
            "Class 9: 600 images\n",
            "\n",
            "Number of images per class in the validation set:\n",
            "Class 0: 200 images\n",
            "Class 1: 200 images\n",
            "Class 2: 200 images\n",
            "Class 3: 200 images\n",
            "Class 4: 200 images\n",
            "Class 5: 200 images\n",
            "Class 6: 200 images\n",
            "Class 7: 200 images\n",
            "Class 8: 200 images\n",
            "Class 9: 200 images\n",
            "\n",
            "Number of images per class in the test set:\n",
            "Class 0: 200 images\n",
            "Class 1: 200 images\n",
            "Class 2: 200 images\n",
            "Class 3: 200 images\n",
            "Class 4: 200 images\n",
            "Class 5: 200 images\n",
            "Class 6: 200 images\n",
            "Class 7: 200 images\n",
            "Class 8: 200 images\n",
            "Class 9: 200 images\n"
          ]
        }
      ]
    },
    {
      "cell_type": "code",
      "source": [
        "import matplotlib.pyplot as plt\n",
        "import numpy as np\n",
        "\n",
        "def show_images(dataset,num_images=5):\n",
        "  fig,axes = plt.subplots(1,num_images, figsize=(15,3))\n",
        "\n",
        "  random_indices = np.random.choice(len(dataset), num_images, replace=False)\n",
        "\n",
        "  for i,idx in enumerate(random_indices):\n",
        "    image, label = dataset[idx]\n",
        "    image = np.transpose(image.numpy(), (1,2,0))\n",
        "    axes[i].imshow((image + 1) / 2)\n",
        "    axes[i].set_title(f\"Class: {label}\")\n",
        "    axes[i].axis('off')\n",
        "  plt.show()"
      ],
      "metadata": {
        "id": "R5kbIz7RDg-6"
      },
      "execution_count": 69,
      "outputs": []
    },
    {
      "cell_type": "code",
      "source": [
        "show_images(cifar10_train)\n",
        "show_images(cifar10_val)\n",
        "show_images(cifar10_test)"
      ],
      "metadata": {
        "colab": {
          "base_uri": "https://localhost:8080/",
          "height": 743
        },
        "id": "wl6Ni1E-EjzZ",
        "outputId": "a929975f-4f1d-4cd6-e989-185a525314cb"
      },
      "execution_count": 70,
      "outputs": [
        {
          "output_type": "display_data",
          "data": {
            "text/plain": [
              "<Figure size 1500x300 with 5 Axes>"
            ],
            "image/png": "[encoded data removed]"
          },
          "metadata": {}
        },
        {
          "output_type": "display_data",
          "data": {
            "text/plain": [
              "<Figure size 1500x300 with 5 Axes>"
            ],
            "image/png": "[encoded data removed]"
          },
          "metadata": {}
        },
        {
          "output_type": "display_data",
          "data": {
            "text/plain": [
              "<Figure size 1500x300 with 5 Axes>"
            ],
            "image/png": "[encoded data removed]"
          },
          "metadata": {}
        }
      ]
    },
    {
      "cell_type": "code",
      "source": [
        "class_names = cifar10_full.classes\n",
        "class_names"
      ],
      "metadata": {
        "colab": {
          "base_uri": "https://localhost:8080/"
        },
        "id": "VTyOM2KSE5-w",
        "outputId": "d460084e-df1e-48e5-d620-e2d784d0692b"
      },
      "execution_count": 71,
      "outputs": [
        {
          "output_type": "execute_result",
          "data": {
            "text/plain": [
              "['airplane',\n",
              " 'automobile',\n",
              " 'bird',\n",
              " 'cat',\n",
              " 'deer',\n",
              " 'dog',\n",
              " 'frog',\n",
              " 'horse',\n",
              " 'ship',\n",
              " 'truck']"
            ]
          },
          "metadata": {},
          "execution_count": 71
        }
      ]
    },
    {
      "cell_type": "code",
      "source": [
        "from torch.utils.data import DataLoader\n",
        "BATCH_SIZE = 32\n",
        "\n",
        "train_dataloader = DataLoader(cifar10_train,\n",
        "                              batch_size=BATCH_SIZE,\n",
        "                              num_workers=2,\n",
        "                              shuffle=True)\n",
        "val_dataloader = DataLoader(cifar10_val,\n",
        "                            batch_size=BATCH_SIZE,\n",
        "                            num_workers=2,\n",
        "                            shuffle=False)\n",
        "\n",
        "test_dataloader = DataLoader(cifar10_test,\n",
        "                            batch_size=BATCH_SIZE,\n",
        "                            num_workers=2,\n",
        "                            shuffle=False)"
      ],
      "metadata": {
        "id": "KA5REu2OFhSP"
      },
      "execution_count": 72,
      "outputs": []
    },
    {
      "cell_type": "code",
      "source": [
        "import torch\n",
        "from torch import nn\n",
        "\n",
        "class VGG16(torch.nn.Module):\n",
        "  def __init__(self, in_channels=3, num_classes=10):\n",
        "    super(VGG16, self).__init__()\n",
        "    self.features = nn.Sequential(\n",
        "        # conv block 1\n",
        "        # conv block 1_1\n",
        "        nn.Conv2d(in_channels=in_channels,out_channels=64, kernel_size=3,padding=1),\n",
        "        nn.ReLU(inplace=True),\n",
        "        # conv block 1_2\n",
        "        nn.Conv2d(in_channels=64, out_channels=64, kernel_size=3, padding=1),\n",
        "        nn.ReLU(inplace=True),\n",
        "        nn.MaxPool2d(kernel_size=2, stride=2),\n",
        "\n",
        "        #conv block 2\n",
        "        # conv block 2_1\n",
        "        nn.Conv2d(in_channels=64, out_channels=128, kernel_size=3, padding=1),\n",
        "        nn.ReLU(inplace=True),\n",
        "        # conv block 2_2\n",
        "        nn.Conv2d(in_channels=128, out_channels=128, kernel_size=3, padding=1),\n",
        "        nn.ReLU(inplace=True),\n",
        "        nn.MaxPool2d(kernel_size=2, stride=2),\n",
        "\n",
        "        #conv block 3\n",
        "        #conv block 3_1\n",
        "        nn.Conv2d(in_channels=128, out_channels=256, kernel_size=3, padding=1),\n",
        "        nn.ReLU(inplace=True),\n",
        "        # conv block 3_2\n",
        "        nn.Conv2d(in_channels=256, out_channels=256, kernel_size=3, padding=1),\n",
        "        nn.ReLU(inplace=True),\n",
        "        #conv block 3_3\n",
        "        nn.Conv2d(in_channels=256, out_channels=256, kernel_size=3, padding=1),\n",
        "        nn.ReLU(inplace=True),\n",
        "        nn.MaxPool2d(kernel_size=2, stride=2),\n",
        "\n",
        "        # conv block 4\n",
        "        #conv block 4_1\n",
        "        nn.Conv2d(in_channels=256, out_channels=512, kernel_size=3, padding=1),\n",
        "        nn.ReLU(inplace=True),\n",
        "        # conv block 4_2\n",
        "        nn.Conv2d(in_channels=512, out_channels=512, kernel_size=3, padding=1),\n",
        "        nn.ReLU(inplace=True),\n",
        "        # conv block 4_3\n",
        "        nn.Conv2d(in_channels=512, out_channels=512, kernel_size=3, padding=1),\n",
        "        nn.ReLU(inplace=True),\n",
        "        nn.MaxPool2d(kernel_size=2, stride=2),\n",
        "\n",
        "        # conv block 5\n",
        "        # conv block 5_1\n",
        "        nn.Conv2d(in_channels=512, out_channels=512, kernel_size=3, padding=1),\n",
        "        nn.ReLU(inplace=True),\n",
        "        # conv block 5_2\n",
        "        nn.Conv2d(in_channels=512, out_channels=512, kernel_size=3, padding=1),\n",
        "        nn.ReLU(inplace=True),\n",
        "        # conv block 5_3\n",
        "        nn.Conv2d(in_channels=512, out_channels=512, kernel_size=3, padding=1),\n",
        "        nn.ReLU(inplace=True),\n",
        "        nn.MaxPool2d(kernel_size=2, stride=2)\n",
        "      )\n",
        "\n",
        "    self.avgpool = nn.AdaptiveAvgPool2d((7,7))\n",
        "\n",
        "    self.classifier = nn.Sequential(\n",
        "        nn.Linear(512*7*7, 4096),\n",
        "        nn.ReLU(inplace=True),\n",
        "        nn.Dropout(),\n",
        "        nn.Linear(4096,4096),\n",
        "        nn.ReLU(inplace=True),\n",
        "        nn.Dropout(),\n",
        "        nn.Linear(4096, num_classes)\n",
        "\n",
        "    )\n",
        "\n",
        "  def forward(self,x):\n",
        "    x = self.features(x)\n",
        "    x = self.avgpool(x)\n",
        "    x = torch.flatten(x,1)\n",
        "    x = self.classifier(x)\n",
        "    return x"
      ],
      "metadata": {
        "id": "T1622ONrGkGS"
      },
      "execution_count": 73,
      "outputs": []
    },
    {
      "cell_type": "code",
      "source": [
        "import torch\n",
        "device = \"cuda\" if torch.cuda.is_available() else \"cpu\"\n",
        "torch.manual_seed(42)\n",
        "vgg16_model = VGG16()\n",
        "vgg16_model"
      ],
      "metadata": {
        "colab": {
          "base_uri": "https://localhost:8080/"
        },
        "id": "E4RjzlkCOUGm",
        "outputId": "d736e579-a4c8-40a3-9a38-8c4628fb079b"
      },
      "execution_count": 74,
      "outputs": [
        {
          "output_type": "execute_result",
          "data": {
            "text/plain": [
              "VGG16(\n",
              "  (features): Sequential(\n",
              "    (0): Conv2d(3, 64, kernel_size=(3, 3), stride=(1, 1), padding=(1, 1))\n",
              "    (1): ReLU(inplace=True)\n",
              "    (2): Conv2d(64, 64, kernel_size=(3, 3), stride=(1, 1), padding=(1, 1))\n",
              "    (3): ReLU(inplace=True)\n",
              "    (4): MaxPool2d(kernel_size=2, stride=2, padding=0, dilation=1, ceil_mode=False)\n",
              "    (5): Conv2d(64, 128, kernel_size=(3, 3), stride=(1, 1), padding=(1, 1))\n",
              "    (6): ReLU(inplace=True)\n",
              "    (7): Conv2d(128, 128, kernel_size=(3, 3), stride=(1, 1), padding=(1, 1))\n",
              "    (8): ReLU(inplace=True)\n",
              "    (9): MaxPool2d(kernel_size=2, stride=2, padding=0, dilation=1, ceil_mode=False)\n",
              "    (10): Conv2d(128, 256, kernel_size=(3, 3), stride=(1, 1), padding=(1, 1))\n",
              "    (11): ReLU(inplace=True)\n",
              "    (12): Conv2d(256, 256, kernel_size=(3, 3), stride=(1, 1), padding=(1, 1))\n",
              "    (13): ReLU(inplace=True)\n",
              "    (14): Conv2d(256, 256, kernel_size=(3, 3), stride=(1, 1), padding=(1, 1))\n",
              "    (15): ReLU(inplace=True)\n",
              "    (16): MaxPool2d(kernel_size=2, stride=2, padding=0, dilation=1, ceil_mode=False)\n",
              "    (17): Conv2d(256, 512, kernel_size=(3, 3), stride=(1, 1), padding=(1, 1))\n",
              "    (18): ReLU(inplace=True)\n",
              "    (19): Conv2d(512, 512, kernel_size=(3, 3), stride=(1, 1), padding=(1, 1))\n",
              "    (20): ReLU(inplace=True)\n",
              "    (21): Conv2d(512, 512, kernel_size=(3, 3), stride=(1, 1), padding=(1, 1))\n",
              "    (22): ReLU(inplace=True)\n",
              "    (23): MaxPool2d(kernel_size=2, stride=2, padding=0, dilation=1, ceil_mode=False)\n",
              "    (24): Conv2d(512, 512, kernel_size=(3, 3), stride=(1, 1), padding=(1, 1))\n",
              "    (25): ReLU(inplace=True)\n",
              "    (26): Conv2d(512, 512, kernel_size=(3, 3), stride=(1, 1), padding=(1, 1))\n",
              "    (27): ReLU(inplace=True)\n",
              "    (28): Conv2d(512, 512, kernel_size=(3, 3), stride=(1, 1), padding=(1, 1))\n",
              "    (29): ReLU(inplace=True)\n",
              "    (30): MaxPool2d(kernel_size=2, stride=2, padding=0, dilation=1, ceil_mode=False)\n",
              "  )\n",
              "  (avgpool): AdaptiveAvgPool2d(output_size=(7, 7))\n",
              "  (classifier): Sequential(\n",
              "    (0): Linear(in_features=25088, out_features=4096, bias=True)\n",
              "    (1): ReLU(inplace=True)\n",
              "    (2): Dropout(p=0.5, inplace=False)\n",
              "    (3): Linear(in_features=4096, out_features=4096, bias=True)\n",
              "    (4): ReLU(inplace=True)\n",
              "    (5): Dropout(p=0.5, inplace=False)\n",
              "    (6): Linear(in_features=4096, out_features=10, bias=True)\n",
              "  )\n",
              ")"
            ]
          },
          "metadata": {},
          "execution_count": 74
        }
      ]
    },
    {
      "cell_type": "code",
      "source": [
        "img_batch, label_batch = next(iter(train_dataloader))\n",
        "\n",
        "\n",
        "img_single, label_single = img_batch[0].unsqueeze(dim=0), label_batch[0]\n",
        "print(f\"Single image shape: {img_single.shape}\\n\")\n",
        "\n",
        "\n",
        "vgg16_model.eval()\n",
        "with torch.inference_mode():\n",
        "    pred = vgg16_model(img_single)\n",
        "\n",
        "print(f\"Output logits:\\n{pred}\\n\")\n",
        "print(f\"Output prediction probabilities:\\n{torch.softmax(pred, dim=1)}\\n\")\n",
        "print(f\"Output prediction label:\\n{torch.argmax(torch.softmax(pred, dim=1), dim=1)}\\n\")\n",
        "print(f\"Actual label:\\n{label_single}\")"
      ],
      "metadata": {
        "colab": {
          "base_uri": "https://localhost:8080/"
        },
        "id": "2pxDdzvXPjv1",
        "outputId": "d84c8e9e-47fe-451d-a8dd-05fe7a22fbe2"
      },
      "execution_count": 75,
      "outputs": [
        {
          "output_type": "stream",
          "name": "stdout",
          "text": [
            "Single image shape: torch.Size([1, 3, 32, 32])\n",
            "\n",
            "Output logits:\n",
            "tensor([[ 0.0063, -0.0002, -0.0064, -0.0023,  0.0119,  0.0100, -0.0064, -0.0159,\n",
            "          0.0055, -0.0104]])\n",
            "\n",
            "Output prediction probabilities:\n",
            "tensor([[0.1007, 0.1001, 0.0994, 0.0998, 0.1013, 0.1011, 0.0994, 0.0985, 0.1006,\n",
            "         0.0990]])\n",
            "\n",
            "Output prediction label:\n",
            "tensor([4])\n",
            "\n",
            "Actual label:\n",
            "2\n"
          ]
        }
      ]
    },
    {
      "cell_type": "code",
      "source": [
        "from typing import Tuple\n",
        "def train(model: torch.nn.Module,\n",
        "          dataloader: torch.utils.data.DataLoader,\n",
        "          loss_fn: torch.nn.Module,\n",
        "          optimizer: torch.optim.Optimizer,\n",
        "          device: torch.device) -> Tuple[float, float]:\n",
        "  model.train()\n",
        "  train_loss, train_acc = 0,0\n",
        "  for batch,(X,y) in enumerate(dataloader):\n",
        "    X,y = X.to(device), y.to(device)\n",
        "    y_pred = model(X)\n",
        "    loss = loss_fn(y_pred, y)\n",
        "    train_loss += loss.item()\n",
        "    optimizer.zero_grad()\n",
        "    loss.backward()\n",
        "    optimizer.step()\n",
        "\n",
        "    y_pred_class = torch.argmax(torch.softmax(y_pred, dim=1), dim=1)\n",
        "    train_acc += (y_pred_class == y).sum().item() / len(y_pred)\n",
        "\n",
        "  train_loss = train_loss / len(dataloader)\n",
        "  train_acc = train_acc / len(dataloader)\n",
        "  return train_loss, train_acc\n"
      ],
      "metadata": {
        "id": "4UoaC4JeQfSW"
      },
      "execution_count": 76,
      "outputs": []
    },
    {
      "cell_type": "code",
      "source": [
        "def validate(model: torch.nn.Module,\n",
        "             dataloader: torch.utils.data.DataLoader,\n",
        "             loss_fn: torch.nn.Module,\n",
        "             device: torch.device) -> Tuple[float, float]:\n",
        "  model.eval()\n",
        "  val_loss, val_acc = 0,0\n",
        "  with torch.no_grad():\n",
        "    for batch, (X_val, y_val) in enumerate(dataloader):\n",
        "      X_val, y_val = X_val.to(device), y_val.to(device)\n",
        "      y_val_pred = model(X_val)\n",
        "      loss_val = loss_fn(y_val_pred, y_val)\n",
        "      val_loss += loss_val.item()\n",
        "\n",
        "      y_val_pred_class = torch.argmax(torch.softmax(y_val_pred, dim=1), dim=1)\n",
        "      val_acc += (y_val_pred_class == y_val).sum().item() / len(y_val_pred)\n",
        "\n",
        "  val_loss = val_loss / len(dataloader)\n",
        "  val_acc = val_acc / len(dataloader)\n",
        "  return val_loss, val_acc"
      ],
      "metadata": {
        "id": "XQswpGk6R_CV"
      },
      "execution_count": 77,
      "outputs": []
    },
    {
      "cell_type": "code",
      "source": [
        "def test(model: torch.nn.Module,\n",
        "               dataloader: torch.utils.data.DataLoader,\n",
        "               device: torch.device) -> float:\n",
        "\n",
        "    model.eval()\n",
        "\n",
        "    test_accuracy = 0.0\n",
        "\n",
        "    with torch.no_grad():\n",
        "        for batch, (X_test, y_test) in enumerate(dataloader):\n",
        "            X_test, y_test = X_test.to(device), y_test.to(device)\n",
        "\n",
        "            y_test_pred = model(X_test)\n",
        "\n",
        "            _, predicted = torch.max(y_test_pred, 1)\n",
        "            test_accuracy += (predicted == y_test).sum().item()\n",
        "\n",
        "    test_accuracy /= len(dataloader.dataset)\n",
        "    return test_accuracy\n"
      ],
      "metadata": {
        "id": "zaZnj_kmS6tP"
      },
      "execution_count": 78,
      "outputs": []
    },
    {
      "cell_type": "code",
      "source": [
        "num_epochs = 100\n",
        "vgg16_model = VGG16().to(device)\n",
        "loss_fn = nn.CrossEntropyLoss()\n",
        "optimizer = torch.optim.Adam(params=vgg16_model.parameters(), lr=0.001)"
      ],
      "metadata": {
        "id": "PSdffafjTpnY"
      },
      "execution_count": 79,
      "outputs": []
    },
    {
      "cell_type": "code",
      "source": [
        "from timeit import default_timer as timer\n",
        "start_time = timer()\n",
        "\n",
        "for epoch in range(num_epochs):\n",
        "\n",
        "  train_loss, train_acc = train(model=vgg16_model,\n",
        "                                dataloader=train_dataloader,\n",
        "                                loss_fn=loss_fn,\n",
        "                                optimizer=optimizer,\n",
        "                                device=device)\n",
        "  print(f\"Epoch {epoch + 1}/{num_epochs}, Training Loss: {train_loss}, Training Accuracy: {train_acc}\")\n",
        "end_time = timer()\n",
        "print(f\"[INFO] Total training time: {end_time-start_time:.3f} seconds\")"
      ],
      "metadata": {
        "colab": {
          "base_uri": "https://localhost:8080/"
        },
        "id": "pAzxJezLTDFE",
        "outputId": "29339e42-8dd5-4916-9437-c10bb8abb8f0"
      },
      "execution_count": null,
      "outputs": [
        {
          "output_type": "stream",
          "name": "stdout",
          "text": [
            "Epoch 1/100, Training Loss: 2.305771198678524, Training Accuracy: 0.09857047872340426\n",
            "Epoch 2/100, Training Loss: 2.304042193483799, Training Accuracy: 0.09158909574468085\n",
            "Epoch 3/100, Training Loss: 2.3035418289773006, Training Accuracy: 0.0962433510638298\n",
            "Epoch 4/100, Training Loss: 2.3034471945559725, Training Accuracy: 0.09707446808510638\n",
            "Epoch 5/100, Training Loss: 2.3031407594680786, Training Accuracy: 0.09424867021276596\n",
            "Epoch 6/100, Training Loss: 2.3031189124634923, Training Accuracy: 0.08992686170212766\n",
            "Epoch 7/100, Training Loss: 2.3029078917300447, Training Accuracy: 0.09674202127659574\n",
            "Epoch 8/100, Training Loss: 2.3029317348561387, Training Accuracy: 0.09524601063829788\n",
            "Epoch 9/100, Training Loss: 2.3029913864237197, Training Accuracy: 0.09574468085106383\n",
            "Epoch 10/100, Training Loss: 2.3029521297901234, Training Accuracy: 0.0945811170212766\n",
            "Epoch 11/100, Training Loss: 2.3029959696404476, Training Accuracy: 0.09042553191489362\n",
            "Epoch 12/100, Training Loss: 2.3029172877047923, Training Accuracy: 0.09242021276595745\n",
            "Epoch 13/100, Training Loss: 2.302723647432124, Training Accuracy: 0.10123005319148937\n",
            "Epoch 14/100, Training Loss: 2.30280831646412, Training Accuracy: 0.09574468085106383\n",
            "Epoch 15/100, Training Loss: 2.3029972593835057, Training Accuracy: 0.08959441489361702\n",
            "Epoch 16/100, Training Loss: 2.3028419626520034, Training Accuracy: 0.09591090425531915\n",
            "Epoch 17/100, Training Loss: 2.302855224051374, Training Accuracy: 0.08494015957446809\n"
          ]
        }
      ]
    }
  ]
}